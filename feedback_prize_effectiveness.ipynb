{
  "nbformat": 4,
  "nbformat_minor": 0,
  "metadata": {
    "colab": {
      "name": "feedback-prize-effectiveness.ipynb",
      "provenance": [],
      "authorship_tag": "ABX9TyPAB+csbRW97A/MRTWf75LA",
      "include_colab_link": true
    },
    "kernelspec": {
      "name": "python3",
      "display_name": "Python 3"
    },
    "language_info": {
      "name": "python"
    }
  },
  "cells": [
    {
      "cell_type": "markdown",
      "metadata": {
        "id": "view-in-github",
        "colab_type": "text"
      },
      "source": [
        "<a href=\"https://colab.research.google.com/github/ds-praveenkumar/truefoundry-projects/blob/dev/feedback_prize_effectiveness.ipynb\" target=\"_parent\"><img src=\"https://colab.research.google.com/assets/colab-badge.svg\" alt=\"Open In Colab\"/></a>"
      ]
    },
    {
      "cell_type": "code",
      "execution_count": 24,
      "metadata": {
        "colab": {
          "base_uri": "https://localhost:8080/"
        },
        "id": "h8yyxNgvEbgM",
        "outputId": "35c07b6c-7973-464b-d0c1-451d89829ff5"
      },
      "outputs": [
        {
          "output_type": "stream",
          "name": "stdout",
          "text": [
            "\n",
            "Usage:   \n",
            "  pip3 install [options] <requirement specifier> [package-index-options] ...\n",
            "  pip3 install [options] -r <requirements file> [package-index-options] ...\n",
            "  pip3 install [options] [-e] <vcs project url> ...\n",
            "  pip3 install [options] [-e] <local project path> ...\n",
            "  pip3 install [options] <archive url/path> ...\n",
            "\n",
            "no such option: -–\n"
          ]
        }
      ],
      "source": [
        "!pip install -q kaggle\n",
        "!pip install -–upgrade pip "
      ]
    },
    {
      "cell_type": "code",
      "source": [
        "!pip --version"
      ],
      "metadata": {
        "colab": {
          "base_uri": "https://localhost:8080/"
        },
        "id": "tYlo_dx3LwUY",
        "outputId": "322fbf9a-0fc0-4533-9219-97b1a7abd05c"
      },
      "execution_count": 25,
      "outputs": [
        {
          "output_type": "stream",
          "name": "stdout",
          "text": [
            "pip 21.1.3 from /usr/local/lib/python3.7/dist-packages/pip (python 3.7)\n"
          ]
        }
      ]
    },
    {
      "cell_type": "code",
      "source": [
        "# from google.colab import files\n",
        "# files.upload()"
      ],
      "metadata": {
        "id": "3Iz_emXQEmzC"
      },
      "execution_count": 14,
      "outputs": []
    },
    {
      "cell_type": "code",
      "source": [
        "! cp kaggle.json ~/.kaggle/\n",
        "!chmod 600 /root/.kaggle/kaggle.json"
      ],
      "metadata": {
        "id": "1WK5I4KEF21c"
      },
      "execution_count": 15,
      "outputs": []
    },
    {
      "cell_type": "code",
      "source": [
        "!kaggle competitions download -c feedback-prize-effectiveness"
      ],
      "metadata": {
        "colab": {
          "base_uri": "https://localhost:8080/"
        },
        "id": "RNKeyknwF7ID",
        "outputId": "b174e711-8a23-484f-e0f9-38adeb1ed535"
      },
      "execution_count": 16,
      "outputs": [
        {
          "output_type": "stream",
          "name": "stdout",
          "text": [
            "feedback-prize-effectiveness.zip: Skipping, found more recently modified local copy (use --force to force download)\n"
          ]
        }
      ]
    },
    {
      "cell_type": "code",
      "source": [
        "!ls -l\n"
      ],
      "metadata": {
        "colab": {
          "base_uri": "https://localhost:8080/"
        },
        "id": "6Qi7CezQGepc",
        "outputId": "e3e2580c-3cd9-4432-bd9d-6703c38cd7be"
      },
      "execution_count": 17,
      "outputs": [
        {
          "output_type": "stream",
          "name": "stdout",
          "text": [
            "total 8340\n",
            "-rw-r--r-- 1 root root 8528364 Jul  8 04:38 feedback-prize-effectiveness.zip\n",
            "-rw-r--r-- 1 root root      68 Jul  8 04:35 kaggle.json\n",
            "drwxr-xr-x 1 root root    4096 Jul  6 13:22 sample_data\n"
          ]
        }
      ]
    },
    {
      "cell_type": "code",
      "source": [
        "! unzip feedback-prize-effectiveness.zip -d data"
      ],
      "metadata": {
        "id": "8hKkjl9iIo_Q"
      },
      "execution_count": null,
      "outputs": []
    },
    {
      "cell_type": "code",
      "source": [
        " !pip install mlfoundry -q"
      ],
      "metadata": {
        "id": "ZJ0G2B0QI-aQ"
      },
      "execution_count": 26,
      "outputs": []
    },
    {
      "cell_type": "code",
      "source": [
        "import mlfoundry\n",
        "mlfoundry.login()"
      ],
      "metadata": {
        "colab": {
          "base_uri": "https://localhost:8080/"
        },
        "id": "JeDWZ9-kLBkg",
        "outputId": "944f1df7-c1c5-420a-daea-d32e637a8cd7"
      },
      "execution_count": 27,
      "outputs": [
        {
          "output_type": "stream",
          "name": "stdout",
          "text": [
            "Please get your API key from https://app.truefoundry.com/settings\n",
            "Paste your API key and hit enter:··········\n",
            "Writing API key at /root/.mlfoundry/credentials.netrc\n"
          ]
        },
        {
          "output_type": "execute_result",
          "data": {
            "text/plain": [
              "True"
            ]
          },
          "metadata": {},
          "execution_count": 27
        }
      ]
    },
    {
      "cell_type": "code",
      "source": [
        "client = mlfoundry.get_client()\n",
        "run = client.create_run(project_name=\"kaggle\", run_name=\"feedback-prize-effectiveness\")\n"
      ],
      "metadata": {
        "colab": {
          "base_uri": "https://localhost:8080/"
        },
        "id": "COpSW-oFL9qF",
        "outputId": "a0c60bec-d5da-49fb-bef8-501ee3b074ce"
      },
      "execution_count": 29,
      "outputs": [
        {
          "output_type": "stream",
          "name": "stdout",
          "text": [
            "[mlfoundry] 2022-07-08T05:04:42+0000 INFO project kaggle does not exist. Creating kaggle.\n",
            "Link to the dashboard for the run: https://app.truefoundry.com/mlfoundry/182/a1b2faa30b91463199d2d656f7987026/\n",
            "[mlfoundry] 2022-07-08T05:04:44+0000 WARNING failed to log git info because git repository is not present\n",
            "[mlfoundry] 2022-07-08T05:04:45+0000 INFO Run 'prokaggler/kaggle/feedback-prize-effectiveness' has started.\n"
          ]
        }
      ]
    },
    {
      "cell_type": "code",
      "source": [
        ""
      ],
      "metadata": {
        "id": "5FTU5Xa-MTBW"
      },
      "execution_count": null,
      "outputs": []
    }
  ]
}